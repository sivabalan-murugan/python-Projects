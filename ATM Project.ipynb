{
 "cells": [
  {
   "cell_type": "code",
   "execution_count": 13,
   "id": "aba7ee4e",
   "metadata": {},
   "outputs": [
    {
     "name": "stdout",
     "output_type": "stream",
     "text": [
      "Enter the option: \n",
      "1 for deposit: \n",
      " 2 for withdraw\n",
      "1\n",
      "Enter the Amount : 100000000000000000000\n",
      "your closing Balance is 100000000000000000000\n",
      "Do you want to continue: \n",
      "y\n",
      "Enter the option: \n",
      "1 for deposit: \n",
      " 2 for withdraw\n",
      "2\n",
      "Enter the withdraw amount: 450000\n",
      "After withdraw your Balance is:  99999999999999550000\n",
      "your closing Balance is 99999999999999550000\n",
      "Do you want to continue: \n",
      "n\n",
      "Thanks for visiting our bank\n"
     ]
    }
   ],
   "source": [
    "class Bank():\n",
    "    def __init__(self):\n",
    "        self.closingBal = 0\n",
    "        \n",
    "    def display(self):\n",
    "        print(\"Enter the option: \")\n",
    "        print(\"1 for deposit: \\n 2 for withdraw\")\n",
    "        getOption = input()\n",
    "        \n",
    "        if getOption == \"1\":\n",
    "            self.deposit()\n",
    "            \n",
    "        elif getOption == \"2\":\n",
    "            self.withdraw()\n",
    "                \n",
    "        elif getOption != 1 or getOption != 2:\n",
    "            print(\"thanks\")\n",
    "            return\n",
    "        print(\"your closing Balance is\", self.closingBal)\n",
    "        print(\"Do you want to continue: \")\n",
    "        \n",
    "        a = input()\n",
    "        if a == \"Y\" or a == \"y\":\n",
    "            self.display()\n",
    "            \n",
    "        else:\n",
    "            print(\"Thanks for visiting our bank\")\n",
    "            \n",
    "    def deposit(self):\n",
    "        depositAmount = int(input(\"Enter the Amount : \"))\n",
    "        self.closingBal = self.closingBal + depositAmount\n",
    "        return self.closingBal\n",
    "    def withdraw(self):\n",
    "        withdrawAmount = int(input(\"Enter the withdraw amount: \"))\n",
    "        if self.closingBal >= withdrawAmount:\n",
    "            self.closingBal = self.closingBal - withdrawAmount\n",
    "            print(\"After withdraw your Balance is: \", self.closingBal)\n",
    "        else:\n",
    "            print(\"No sufficient Balance\")\n",
    "        return self.closingBal\n",
    "        \n",
    "bankobj = Bank()\n",
    "bankobj.display()"
   ]
  },
  {
   "cell_type": "code",
   "execution_count": null,
   "id": "5ce3ed5f",
   "metadata": {},
   "outputs": [],
   "source": []
  }
 ],
 "metadata": {
  "kernelspec": {
   "display_name": "Python 3 (ipykernel)",
   "language": "python",
   "name": "python3"
  },
  "language_info": {
   "codemirror_mode": {
    "name": "ipython",
    "version": 3
   },
   "file_extension": ".py",
   "mimetype": "text/x-python",
   "name": "python",
   "nbconvert_exporter": "python",
   "pygments_lexer": "ipython3",
   "version": "3.9.12"
  }
 },
 "nbformat": 4,
 "nbformat_minor": 5
}
