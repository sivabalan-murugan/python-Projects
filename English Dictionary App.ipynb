{
 "cells": [
  {
   "cell_type": "markdown",
   "id": "887da051",
   "metadata": {},
   "source": [
    "# English Dictionary App"
   ]
  },
  {
   "cell_type": "markdown",
   "id": "a64759ad",
   "metadata": {},
   "source": []
  },
  {
   "cell_type": "code",
   "execution_count": 4,
   "id": "b4eac7f7",
   "metadata": {},
   "outputs": [
    {
     "name": "stdout",
     "output_type": "stream",
     "text": [
      "Main Menu\n",
      "\n",
      "Press 1 --- Add a new word\n",
      "Press 2 --- Find the meaning\n",
      "Press 3 --- Update a word\n",
      "Press 4 --- Exit\n",
      "Enter the Choice of Yours : 4\n",
      "The Choice of Yours is :  4\n",
      "---------Exit App---------\n"
     ]
    }
   ],
   "source": [
    "import json \n",
    "\n",
    "choice=1\n",
    "\n",
    "while(choice != 4):\n",
    "    choice = int(input('''Main Menu\n",
    "\n",
    "Press 1 --- Add a new word\n",
    "Press 2 --- Find the meaning\n",
    "Press 3 --- Update a word\n",
    "Press 4 --- Exit\n",
    "Enter the Choice of Yours : '''))\n",
    "    print ('The Choice of Yours is : ', choice)\n",
    "    \n",
    "    if (choice == 1):\n",
    "        temp = {}\n",
    "        temp1 = {}\n",
    "        word = input (\"Enter the Word : \").title()\n",
    "        with open (\"word.txt\", \"r\") as f:\n",
    "            a = json.load(f)\n",
    "            \n",
    "            for i in a:\n",
    "                if (word == i):\n",
    "                    print(\"The Word You Entered is Already Exist Try to Updating it\")\n",
    "                    break\n",
    "            else :\n",
    "                meaning = input(\"Enter the Meaning of the Word to Update : \").title()\n",
    "                temp[word] = meaning\n",
    "                for i in a,temp:\n",
    "                    temp1.update(i)\n",
    "        with open (\"word.txt\",\"w\") as m:\n",
    "            json.dump(temp1,m)\n",
    "            \n",
    "    elif (choice == 2):\n",
    "        word = input(\"Enter the Word : \").title()\n",
    "        with open (\"word.txt\", \"r\") as f:\n",
    "            a = json.load(f)\n",
    "            for i in a:\n",
    "                if (word==i):\n",
    "                    print(\"The Meaning of \",word,\" is : \", a(i))\n",
    "                    break\n",
    "                    \n",
    "            else:\n",
    "                print(\"Entered word is not in Dictionary Try to Add It.\")\n",
    "                \n",
    "    elif (choice == 3):\n",
    "        temp = {}\n",
    "        temp1 = {}\n",
    "        word = input(\"Enter the word to update : \").title()\n",
    "        with open (\"word.text\",\"r\") as f:\n",
    "            a = json.load(f)\n",
    "            \n",
    "            for i in a:\n",
    "                if (word == i):\n",
    "                    meaning = input(\"Enter the Meaning of the Word : \").title()\n",
    "                    temp[word]=meaning\n",
    "                    break\n",
    "            else:\n",
    "                print(word,\" is not in the list Try Updating it\")\n",
    "        for i in a,temp:\n",
    "            temp1.update(i)\n",
    "        with open (\"word.txt\",\"w\") as f:\n",
    "            json.dump(temp1,f)\n",
    "    elif (choice == 4):\n",
    "        print(\"---------Exit App---------\")\n",
    "    else:\n",
    "        print(\"Enter the Above any option to Progress.\")"
   ]
  },
  {
   "cell_type": "code",
   "execution_count": null,
   "id": "aa6f4a94",
   "metadata": {},
   "outputs": [],
   "source": []
  },
  {
   "cell_type": "code",
   "execution_count": null,
   "id": "3e6d5341",
   "metadata": {},
   "outputs": [],
   "source": []
  }
 ],
 "metadata": {
  "kernelspec": {
   "display_name": "Python 3 (ipykernel)",
   "language": "python",
   "name": "python3"
  },
  "language_info": {
   "codemirror_mode": {
    "name": "ipython",
    "version": 3
   },
   "file_extension": ".py",
   "mimetype": "text/x-python",
   "name": "python",
   "nbconvert_exporter": "python",
   "pygments_lexer": "ipython3",
   "version": "3.9.12"
  }
 },
 "nbformat": 4,
 "nbformat_minor": 5
}
